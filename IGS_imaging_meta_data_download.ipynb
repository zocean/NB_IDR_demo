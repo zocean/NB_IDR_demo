{
 "cells": [
  {
   "cell_type": "markdown",
   "id": "99faa730-4fbc-44df-bbbf-9feced0eb5f3",
   "metadata": {},
   "source": [
    "## Notebook to extract image metadata for IDR demo"
   ]
  },
  {
   "cell_type": "code",
   "execution_count": 4,
   "id": "d3d5a242-6821-4ea4-8fc6-95efd02d4fd8",
   "metadata": {},
   "outputs": [
    {
     "name": "stdout",
     "output_type": "stream",
     "text": [
      "Homepage of IDR webclient: https://idr.openmicroscopy.org/webclient/?experimenter=-1\n"
     ]
    }
   ],
   "source": [
    "from IPython.display import display, HTML\n",
    "import requests\n",
    "\n",
    "# initial data\n",
    "IDR_BASE_URL = \"https://idr.openmicroscopy.org\"\n",
    "\n",
    "INDEX_PAGE = \"%s/webclient/?experimenter=-1\" % IDR_BASE_URL\n",
    "\n",
    "print(\"Homepage of IDR webclient: \" + INDEX_PAGE)\n",
    "# create http session\n",
    "with requests.Session() as session:\n",
    "    request = requests.Request('GET', INDEX_PAGE)\n",
    "    prepped = session.prepare_request(request)\n",
    "    response = session.send(prepped)\n",
    "    if response.status_code != 200:\n",
    "        response.raise_for_status()"
   ]
  },
  {
   "cell_type": "markdown",
   "id": "96d3871f-60fd-4c35-a58d-15cb651932e7",
   "metadata": {},
   "source": [
    "### Prepare object"
   ]
  },
  {
   "cell_type": "code",
   "execution_count": 30,
   "id": "a93416dc-1d84-432d-a3b3-9ae091f15691",
   "metadata": {},
   "outputs": [],
   "source": [
    "class Dataset(object):\n",
    "    def __init__(self):\n",
    "        self.id = None\n",
    "        self.name = None\n",
    "        self.count = 0\n",
    "        self.image_list = []\n",
    "    def __repr__(self):\n",
    "        return \"Dataset_ID:%s\\tName:%s\\tCount:%s\\tImage_count:%d\" % (self.id, self.name, self.count, len(self.image_list))\n",
    "class Image(object):\n",
    "    def __init__(self):\n",
    "        self.imageId = None\n",
    "        self.name = None\n",
    "        self.fileId = None\n",
    "        self.annoId = None\n",
    "    def __repr__(self):\n",
    "        return \"Image_ID:%s\\tname:%s\\tFile_ID:%s\\tAnno_ID:%s\" % (self.imageId, self.name, self.fileId, self.annoId)"
   ]
  },
  {
   "cell_type": "code",
   "execution_count": 31,
   "id": "fcdea2f4-1608-4d8f-8f0b-16149c50a046",
   "metadata": {},
   "outputs": [],
   "source": [
    "PROJECT_ID = 2051\n",
    "dataset_list = []\n",
    "image_list = []"
   ]
  },
  {
   "cell_type": "markdown",
   "id": "34312dcc-f6e5-4256-a9a1-699ae6141407",
   "metadata": {},
   "source": [
    "### Get all dataset associated with a project"
   ]
  },
  {
   "cell_type": "code",
   "execution_count": 32,
   "id": "51d8d32b-1d7f-4efc-8262-6502519243b7",
   "metadata": {},
   "outputs": [
    {
     "name": "stdout",
     "output_type": "stream",
     "text": [
      "Dataset from a project reponse: https://idr.openmicroscopy.org/webclient/api/datasets/?id=2051\n"
     ]
    }
   ],
   "source": [
    "MAP_URL = \"{base}/webclient/api/datasets/?{type}={project_id}\"\n",
    "\n",
    "qs = {'base': IDR_BASE_URL, 'type': 'id', 'project_id': PROJECT_ID}\n",
    "url = MAP_URL.format(**qs)\n",
    "print(\"Dataset from a project reponse: \" + url)\n",
    "\n",
    "for a in session.get(url).json()['datasets']:\n",
    "    dataset = Dataset()\n",
    "    dataset.id = a['id']\n",
    "    dataset.name = a['name']\n",
    "    dataset.count  = a['childCount']\n",
    "    dataset_list.append(dataset)"
   ]
  },
  {
   "cell_type": "markdown",
   "id": "6a65b611-966c-4c31-835d-f224dc6145d6",
   "metadata": {},
   "source": [
    "### Get images for each dataset"
   ]
  },
  {
   "cell_type": "code",
   "execution_count": 33,
   "id": "1f4562f0-194f-4ea3-8959-2c2a39222267",
   "metadata": {},
   "outputs": [],
   "source": [
    "MAP_URL = \"{base}/webclient/api/images/?{type}={dataset_id}\"\n",
    "\n",
    "for dataset in dataset_list:\n",
    "    qs = {'base': IDR_BASE_URL, 'type': 'id', 'dataset_id': dataset.id}\n",
    "    url = MAP_URL.format(**qs)\n",
    "    for a in session.get(url).json()['images']:\n",
    "        if 'processed' in a['name']:\n",
    "            image = Image()\n",
    "            image.imageId = a['id']\n",
    "            image.name = a['name']\n",
    "            image.fileId = a['filesetId']\n",
    "            dataset.image_list.append(image)"
   ]
  },
  {
   "cell_type": "markdown",
   "id": "e8e36167-ca42-4379-87b6-8511ccc8680b",
   "metadata": {},
   "source": [
    "### Add annotation for each image"
   ]
  },
  {
   "cell_type": "code",
   "execution_count": 34,
   "id": "59eaf545-0573-4489-8d7c-3886e648af11",
   "metadata": {},
   "outputs": [],
   "source": [
    "MAP_URL = \"{base}/webclient/api/annotations/?type=file&{type}={image_id}\"\n",
    "\n",
    "for dataset in dataset_list:\n",
    "    for image in dataset.image_list:\n",
    "        qs = {'base': IDR_BASE_URL, 'type': 'image', 'image_id': image.imageId}\n",
    "        url = MAP_URL.format(**qs)\n",
    "        for a in session.get(url).json()['annotations']:\n",
    "            if a['file']['mimetype'] == 'OMERO.tables':\n",
    "                image.annoId = a['file']['id']"
   ]
  },
  {
   "cell_type": "code",
   "execution_count": 36,
   "id": "7d05fcff-9c8f-48db-a3c6-e4386312a06e",
   "metadata": {},
   "outputs": [
    {
     "name": "stdout",
     "output_type": "stream",
     "text": [
      "[Dataset_ID:15101\tName:Fibroblasts_01\tCount:4\tImage_count:2, Dataset_ID:15159\tName:Fibroblasts_02\tCount:6\tImage_count:4, Dataset_ID:15160\tName:Fibroblasts_03\tCount:11\tImage_count:9, Dataset_ID:15161\tName:Fibroblasts_04\tCount:2\tImage_count:0, Dataset_ID:15162\tName:Fibroblasts_05\tCount:2\tImage_count:0, Dataset_ID:15163\tName:Fibroblasts_06\tCount:13\tImage_count:11, Dataset_ID:15164\tName:Fibroblasts_07\tCount:16\tImage_count:14, Dataset_ID:15165\tName:Fibroblasts_08\tCount:7\tImage_count:5, Dataset_ID:15166\tName:Fibroblasts_09\tCount:3\tImage_count:1, Dataset_ID:15167\tName:Fibroblasts_10\tCount:6\tImage_count:4, Dataset_ID:15168\tName:Fibroblasts_11\tCount:2\tImage_count:0, Dataset_ID:15169\tName:Fibroblasts_12\tCount:7\tImage_count:5, Dataset_ID:15170\tName:Fibroblasts_13\tCount:8\tImage_count:6, Dataset_ID:15171\tName:Fibroblasts_14\tCount:6\tImage_count:4, Dataset_ID:15172\tName:Fibroblasts_15\tCount:3\tImage_count:1, Dataset_ID:15173\tName:Fibroblasts_16\tCount:9\tImage_count:7, Dataset_ID:15174\tName:Fibroblasts_17\tCount:13\tImage_count:11, Dataset_ID:15175\tName:Fibroblasts_18\tCount:7\tImage_count:5, Dataset_ID:15176\tName:Fibroblasts_19\tCount:9\tImage_count:7, Dataset_ID:15177\tName:Fibroblasts_20\tCount:3\tImage_count:1, Dataset_ID:15178\tName:Fibroblasts_21\tCount:2\tImage_count:0, Dataset_ID:15179\tName:Fibroblasts_22\tCount:5\tImage_count:3, Dataset_ID:15180\tName:Fibroblasts_23\tCount:3\tImage_count:1, Dataset_ID:15181\tName:Fibroblasts_24\tCount:5\tImage_count:3, Dataset_ID:15182\tName:Fibroblasts_25\tCount:4\tImage_count:2]\n"
     ]
    }
   ],
   "source": [
    "print(dataset_list)"
   ]
  },
  {
   "cell_type": "markdown",
   "id": "bc5401be-456a-44f1-b6b7-f6a8ca509618",
   "metadata": {},
   "source": [
    "### Export to JSON object"
   ]
  },
  {
   "cell_type": "markdown",
   "id": "7de7d3ad-e283-4f2e-82f5-8076c215d1b7",
   "metadata": {},
   "source": [
    "Report dataset_list to pickle "
   ]
  },
  {
   "cell_type": "code",
   "execution_count": 40,
   "id": "0a387e2d-7fd5-4260-967f-4f6c58a91c71",
   "metadata": {},
   "outputs": [],
   "source": [
    "import pickle\n",
    "\n",
    "with open(\"IDR_project_%s.pickle\" % (PROJECT_ID), 'wb') as fout:\n",
    "    pickle.dump(dataset_list, fout)"
   ]
  },
  {
   "cell_type": "code",
   "execution_count": 41,
   "id": "51d70ef5-594f-4be3-9c85-cefcaf70dd58",
   "metadata": {},
   "outputs": [
    {
     "name": "stdout",
     "output_type": "stream",
     "text": [
      "Dataset_ID:15101\tName:Fibroblasts_01\tCount:4\tImage_count:2\n"
     ]
    }
   ],
   "source": [
    "print(dataset_list[0])"
   ]
  },
  {
   "cell_type": "code",
   "execution_count": 44,
   "id": "ab952de9-865e-48ad-97bc-afe5ad50cee1",
   "metadata": {},
   "outputs": [],
   "source": [
    "import json\n",
    "\n",
    "result = []\n",
    "for dataset in dataset_list:\n",
    "    new = {'Dataset_ID': dataset.id, 'Dataset_name':dataset.name, 'count':len(dataset.image_list), 'children': []}\n",
    "    for image in dataset.image_list:\n",
    "        cell = {'Image_ID':image.imageId, 'Image_name':image.name, 'File_ID':image.fileId, 'Anno_ID':image.annoId}\n",
    "        new['children'].append(cell)\n",
    "    result.append(new)\n",
    "with open(\"IDR_project_%s.json\" % (PROJECT_ID), 'w') as fout:\n",
    "    json.dump(result, fout) "
   ]
  },
  {
   "cell_type": "code",
   "execution_count": null,
   "id": "8a858330-1eaf-4654-a91a-60620a48ee1a",
   "metadata": {},
   "outputs": [],
   "source": []
  }
 ],
 "metadata": {
  "kernelspec": {
   "display_name": "Python 3 (ipykernel)",
   "language": "python",
   "name": "python3"
  },
  "language_info": {
   "codemirror_mode": {
    "name": "ipython",
    "version": 3
   },
   "file_extension": ".py",
   "mimetype": "text/x-python",
   "name": "python",
   "nbconvert_exporter": "python",
   "pygments_lexer": "ipython3",
   "version": "3.9.5"
  }
 },
 "nbformat": 4,
 "nbformat_minor": 5
}
