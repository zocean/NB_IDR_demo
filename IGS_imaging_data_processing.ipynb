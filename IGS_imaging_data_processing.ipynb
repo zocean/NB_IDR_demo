{
 "cells": [
  {
   "cell_type": "markdown",
   "id": "0ffeaae8-e7df-4c1d-afbe-eee7a478d5a7",
   "metadata": {},
   "source": [
    "# Example using IDR web API to retrieve data / meta-information"
   ]
  },
  {
   "cell_type": "markdown",
   "id": "daa0c72d-73a6-4c90-a49f-3d3b2730b432",
   "metadata": {},
   "source": [
    "## Check connection"
   ]
  },
  {
   "cell_type": "code",
   "execution_count": 74,
   "id": "f051dbbb-0e76-4e5b-91aa-8c70098b17d7",
   "metadata": {},
   "outputs": [],
   "source": [
    "from IPython.display import display, HTML\n",
    "import requests\n",
    "\n",
    "# initial data\n",
    "IDR_BASE_URL = \"https://idr.openmicroscopy.org\""
   ]
  },
  {
   "cell_type": "code",
   "execution_count": 77,
   "id": "a6898241-8822-411a-a46e-7407f0d594d6",
   "metadata": {},
   "outputs": [
    {
     "name": "stdout",
     "output_type": "stream",
     "text": [
      "Homepage of IDR webclient: https://idr.openmicroscopy.org/webclient/?experimenter=-1\n"
     ]
    }
   ],
   "source": [
    "INDEX_PAGE = \"%s/webclient/?experimenter=-1\" % IDR_BASE_URL\n",
    "\n",
    "print(\"Homepage of IDR webclient: \" + INDEX_PAGE)\n",
    "# create http session\n",
    "with requests.Session() as session:\n",
    "    request = requests.Request('GET', INDEX_PAGE)\n",
    "    prepped = session.prepare_request(request)\n",
    "    response = session.send(prepped)\n",
    "    if response.status_code != 200:\n",
    "        response.raise_for_status()"
   ]
  },
  {
   "cell_type": "markdown",
   "id": "f8cc6cef-88c0-4496-af92-8bee9cf49770",
   "metadata": {},
   "source": [
    "## Get the overview of a dataset"
   ]
  },
  {
   "cell_type": "markdown",
   "id": "360e8033-aef4-4d76-9068-40165ec20e87",
   "metadata": {},
   "source": [
    "In the IDR webclient, browser the IDR projeect on the left and select a project of interest. Click the project icon to expand its children on the left. On the right the screen, it will show a general tab with a screen ID (if it is a screen project) or a dataset ID if it is a dataset project. For screen project, change `'type':'project'` into `'type':'screen'`. An example use of web API is [https://idr.openmicroscopy.org/webclient/api/annotations/?type=map&project=2054](https://idr.openmicroscopy.org/webclient/api/annotations/?type=map&project=2054)"
   ]
  },
  {
   "cell_type": "code",
   "execution_count": 79,
   "id": "60defee7-14ce-44fe-b17b-5cd9118d8b86",
   "metadata": {},
   "outputs": [
    {
     "name": "stdout",
     "output_type": "stream",
     "text": [
      "Dataset summary response: https://idr.openmicroscopy.org/webclient/api/annotations/?type=map&project=2054\n",
      "Experiment A https://idr.openmicroscopy.org/webclient/?show=project-2051\n",
      "Experiment B https://idr.openmicroscopy.org/webclient/?show=project-2052\n",
      "Overview https://idr.openmicroscopy.org/webclient/?show=project-2054\n",
      "Publication Title In situ genome sequencing resolves DNA sequence and structure in intact biological samples\n",
      "Publication Authors Payne AC, Chiang ZD, Reginato PL, Mangiameli SM, Murray EM, Yao CC, Markoulaki S, Earl AS, Labade AS, Jaenisch R, Church GM, Boyden ES, Buenrostro JD, Chen F\n",
      "PubMed ID 33384301 https://www.ncbi.nlm.nih.gov/pubmed/33384301\n",
      "PMC ID PMC7962746 https://www.ncbi.nlm.nih.gov/pmc/articles/PMC7962746\n",
      "Publication DOI 10.1126/science.aay3446 https://doi.org/10.1126/science.aay3446\n",
      "Release Date 2021-09-21\n",
      "License CC BY 4.0 https://creativecommons.org/licenses/by/4.0/\n",
      "Copyright Payne et al\n",
      "Data Publisher University of Dundee\n",
      "Data DOI 10.17867/10000169 https://doi.org/10.17867/10000169\n",
      "External URL https://buenrostrolab.shinyapps.io/insituseq/\n"
     ]
    }
   ],
   "source": [
    "MAP_URL = \"{base}/webclient/api/annotations/?type=map&{type}={project_id}\"\n",
    "\n",
    "PROJECT_ID = 2054\n",
    "\n",
    "qs = {'base': IDR_BASE_URL, 'type': 'project', 'project_id': PROJECT_ID}\n",
    "url = MAP_URL.format(**qs)\n",
    "print(\"Dataset summary response: \" + url)\n",
    "for a in session.get(url).json()['annotations']:\n",
    "    namespace = a['ns']\n",
    "    for v in a['values']:\n",
    "        key = v[0]\n",
    "        value = v[1]\n",
    "        print(key, value)"
   ]
  },
  {
   "cell_type": "markdown",
   "id": "fec5a892-756d-45e2-93e2-6da93f4c1d77",
   "metadata": {},
   "source": [
    "## Explore the human fibroblast IGS data"
   ]
  },
  {
   "cell_type": "markdown",
   "id": "cb5b3a6a-4304-4c7c-87f4-dbe34b22f8fb",
   "metadata": {},
   "source": [
    "Now, choose the human fibroblast IGS data. The project ID is 2051. To view the JSON, open [https://idr.openmicroscopy.org/webclient/api/annotations/?type=map&project=2051](https://idr.openmicroscopy.org/webclient/api/annotations/?type=map&project=2051) in the browser."
   ]
  },
  {
   "cell_type": "code",
   "execution_count": 80,
   "id": "373d98a7-419d-4cf0-a6d7-90aaa8474d8f",
   "metadata": {},
   "outputs": [
    {
     "name": "stdout",
     "output_type": "stream",
     "text": [
      "Dataset summary response: https://idr.openmicroscopy.org/webclient/api/annotations/?type=map&project=2051\n",
      "Experiment A https://idr.openmicroscopy.org/webclient/?show=project-2051\n",
      "Experiment B https://idr.openmicroscopy.org/webclient/?show=project-2052\n",
      "Overview https://idr.openmicroscopy.org/webclient/?show=project-2054\n",
      "Sample Type cell\n",
      "Organism Homo sapiens\n",
      "Study Type DNA sequencing\n",
      "Imaging Method confocal microscopy\n",
      "Publication Title In situ genome sequencing resolves DNA sequence and structure in intact biological samples\n",
      "Publication Authors Payne AC, Chiang ZD, Reginato PL, Mangiameli SM, Murray EM, Yao CC, Markoulaki S, Earl AS, Labade AS, Jaenisch R, Church GM, Boyden ES, Buenrostro JD, Chen F\n",
      "PubMed ID 33384301 https://www.ncbi.nlm.nih.gov/pubmed/33384301\n",
      "PMC ID PMC7962746 https://www.ncbi.nlm.nih.gov/pmc/articles/PMC7962746\n",
      "Publication DOI 10.1126/science.aay3446 https://doi.org/10.1126/science.aay3446\n",
      "Release Date 2021-09-21\n",
      "License CC BY 4.0 https://creativecommons.org/licenses/by/4.0/\n",
      "Copyright Payne et al\n",
      "Data Publisher University of Dundee\n",
      "External URL https://buenrostrolab.shinyapps.io/insituseq/\n",
      "Annotation File idr0101-experimentA-annotation.csv https://github.com/IDR/idr0101-payne-insitugenomeseq/blob/HEAD/experimentA/idr0101-experimentA-annotation.csv\n"
     ]
    }
   ],
   "source": [
    "PROJECT_ID = 2051\n",
    "\n",
    "MAP_URL = \"{base}/webclient/api/annotations/?type=map&{type}={project_id}\"\n",
    "qs = {'base': IDR_BASE_URL, 'type': 'project', 'project_id': PROJECT_ID}\n",
    "url = MAP_URL.format(**qs)\n",
    "print(\"Dataset summary response: \"+ url)\n",
    "for a in session.get(url).json()['annotations']:\n",
    "    namespace = a['ns']\n",
    "    for v in a['values']:\n",
    "        key = v[0]\n",
    "        value = v[1]\n",
    "        print(key, value)"
   ]
  },
  {
   "cell_type": "markdown",
   "id": "e73885bb-ea82-4dd3-9f1a-bed95c02eb63",
   "metadata": {},
   "source": [
    "## Download/View Project annotation file"
   ]
  },
  {
   "cell_type": "markdown",
   "id": "8171822a-e844-4200-8d21-2906b1906f38",
   "metadata": {},
   "source": [
    "To view attachment associated with a project, change the `type=map` in the url into `type=file` as shown below. It will return a JSON with meta-information for annotation files associated with a project. "
   ]
  },
  {
   "cell_type": "markdown",
   "id": "cb790f59-a0d0-4292-bce9-b31e429126db",
   "metadata": {},
   "source": [
    "An example use the web API is [https://idr.openmicroscopy.org/webclient/api/annotations/?type=file&project=2051]( https://idr.openmicroscopy.org/webclient/api/annotations/?type=file&project=2051). Values under the key **annotations** contain the annotation files. Notice that you can directly download the annotation file using the web API such as [https://idr.openmicroscopy.org/webclient/annotation/33424230](https://idr.openmicroscopy.org/webclient/annotation/33424230). The annotation file format can be text (csv) or OMERO.tables (a HDF5 object)."
   ]
  },
  {
   "cell_type": "markdown",
   "id": "b28170a7-8a33-4547-860f-6f2c7948c689",
   "metadata": {},
   "source": [
    "It is also possible to render the OMERO.tables using the web API. For example, for the OMERO.tables annotation file below, you can identify the **fiel ID** as **41884691**. Then you can use link like this: [https://idr.openmicroscopy.org/webclient/omero_table/41884691/](https://idr.openmicroscopy.org/webclient/omero_table/41884691/) to render the data as an html table. Alternatively, it is also possible to get the OMERO.tables as JSON such as [https://idr.openmicroscopy.org/webclient/omero_table/41884691/json](https://idr.openmicroscopy.org/webclient/omero_table/41884691/json) "
   ]
  },
  {
   "cell_type": "code",
   "execution_count": 86,
   "id": "287fd6cb-4e3d-4745-8124-d811ab192921",
   "metadata": {},
   "outputs": [
    {
     "name": "stdout",
     "output_type": "stream",
     "text": [
      "Dataset annotation file response: https://idr.openmicroscopy.org/webclient/api/annotations/?type=file&project=2051\n",
      "Annotation ID:  33424230\n",
      "\tFile name:  Data_Table_Fibroblasts.csv\n",
      "\tFile ID:  41884694\n",
      "\tFile type:  text/csv\n",
      "Annotation ID:  33424229\n",
      "\tFile name:  Data_Description_Fibroblasts.csv\n",
      "\tFile ID:  41884693\n",
      "\tFile type:  text/csv\n",
      "Annotation ID:  33423915\n",
      "\tFile name:  bulk_annotations\n",
      "\tFile ID:  41884691\n",
      "\tFile type:  OMERO.tables\n",
      "https://idr.openmicroscopy.org/webclient/annotation/33424230\tData_Table_Fibroblasts.csv\n",
      "https://idr.openmicroscopy.org/webclient/annotation/33424229\tData_Description_Fibroblasts.csv\n",
      "https://idr.openmicroscopy.org/webclient/annotation/33423915\tbulk_annotations\n"
     ]
    }
   ],
   "source": [
    "import os\n",
    "\n",
    "PROJECT_ID = 2051\n",
    "\n",
    "MAP_URL = \"{base}/webclient/api/annotations/?type=file&{type}={project_id}\"\n",
    "\n",
    "qs = {'base': IDR_BASE_URL, 'type': 'project', 'project_id': PROJECT_ID}\n",
    "url = MAP_URL.format(**qs)\n",
    "print(\"Dataset annotation file response: \" + url)\n",
    "DOWNLOAD_URL = \"{base}/webclient/annotation/{ann_id}\"\n",
    "download_list = []\n",
    "for a in session.get(url).json()['annotations']:\n",
    "    namespace = a['ns']\n",
    "    print(\"Annotation ID: \", a['id'])\n",
    "    print(\"\\tFile name: \", a['file']['name'])\n",
    "    print(\"\\tFile ID: \", a['file']['id'])\n",
    "    print(\"\\tFile type: \", a['file']['mimetype'])\n",
    "    qs['ann_id'] = a['id']\n",
    "    download_list.append((DOWNLOAD_URL.format(**qs), a['file']['name']))\n",
    "#for link in download_list:\n",
    "#    os.system(\"wget -O%s -o log %s\" % (link[1], link[0]))\n",
    "print('\\n'.join('\\t'.join(item) for item in download_list))"
   ]
  },
  {
   "cell_type": "markdown",
   "id": "4364835c-ee4e-4fee-90b8-2b8c5d409b23",
   "metadata": {},
   "source": [
    "## Get the dataset associated with project"
   ]
  },
  {
   "cell_type": "code",
   "execution_count": 87,
   "id": "4085c882-7e34-402d-99b5-f333e45d6197",
   "metadata": {},
   "outputs": [
    {
     "name": "stdout",
     "output_type": "stream",
     "text": [
      "Dataset from a project reponse: https://idr.openmicroscopy.org/webclient/api/datasets/?id=2051\n"
     ]
    }
   ],
   "source": [
    "PROJECT_ID = 2051\n",
    "\n",
    "MAP_URL = \"{base}/webclient/api/datasets/?{type}={project_id}\"\n",
    "\n",
    "qs = {'base': IDR_BASE_URL, 'type': 'id', 'project_id': PROJECT_ID}\n",
    "url = MAP_URL.format(**qs)\n",
    "print(\"Dataset from a project reponse: \" + url)\n",
    "dataset_list = []\n",
    "for a in session.get(url).json()['datasets']:\n",
    "    dataset = {}\n",
    "    dataset['id'] = a['id']\n",
    "    dataset['name'] = a['name']\n",
    "    dataset['count']  = a['childCount']\n",
    "    dataset_list.append(dataset)\n"
   ]
  },
  {
   "cell_type": "code",
   "execution_count": 88,
   "id": "ede8ce4a-643e-44d0-a172-6b26d7d50205",
   "metadata": {},
   "outputs": [
    {
     "data": {
      "text/plain": [
       "[{'id': 15101, 'name': 'Fibroblasts_01', 'count': 4},\n",
       " {'id': 15159, 'name': 'Fibroblasts_02', 'count': 6},\n",
       " {'id': 15160, 'name': 'Fibroblasts_03', 'count': 11},\n",
       " {'id': 15161, 'name': 'Fibroblasts_04', 'count': 2},\n",
       " {'id': 15162, 'name': 'Fibroblasts_05', 'count': 2},\n",
       " {'id': 15163, 'name': 'Fibroblasts_06', 'count': 13},\n",
       " {'id': 15164, 'name': 'Fibroblasts_07', 'count': 16},\n",
       " {'id': 15165, 'name': 'Fibroblasts_08', 'count': 7},\n",
       " {'id': 15166, 'name': 'Fibroblasts_09', 'count': 3},\n",
       " {'id': 15167, 'name': 'Fibroblasts_10', 'count': 6},\n",
       " {'id': 15168, 'name': 'Fibroblasts_11', 'count': 2},\n",
       " {'id': 15169, 'name': 'Fibroblasts_12', 'count': 7},\n",
       " {'id': 15170, 'name': 'Fibroblasts_13', 'count': 8},\n",
       " {'id': 15171, 'name': 'Fibroblasts_14', 'count': 6},\n",
       " {'id': 15172, 'name': 'Fibroblasts_15', 'count': 3},\n",
       " {'id': 15173, 'name': 'Fibroblasts_16', 'count': 9},\n",
       " {'id': 15174, 'name': 'Fibroblasts_17', 'count': 13},\n",
       " {'id': 15175, 'name': 'Fibroblasts_18', 'count': 7},\n",
       " {'id': 15176, 'name': 'Fibroblasts_19', 'count': 9},\n",
       " {'id': 15177, 'name': 'Fibroblasts_20', 'count': 3},\n",
       " {'id': 15178, 'name': 'Fibroblasts_21', 'count': 2},\n",
       " {'id': 15179, 'name': 'Fibroblasts_22', 'count': 5},\n",
       " {'id': 15180, 'name': 'Fibroblasts_23', 'count': 3},\n",
       " {'id': 15181, 'name': 'Fibroblasts_24', 'count': 5},\n",
       " {'id': 15182, 'name': 'Fibroblasts_25', 'count': 4}]"
      ]
     },
     "execution_count": 88,
     "metadata": {},
     "output_type": "execute_result"
    }
   ],
   "source": [
    "dataset_list"
   ]
  },
  {
   "cell_type": "markdown",
   "id": "b9ee07e2-4a58-4480-9d3b-3f6d0bc756e8",
   "metadata": {},
   "source": [
    "## Get Images from a dataset"
   ]
  },
  {
   "cell_type": "markdown",
   "id": "04ad2008-17de-435d-9d81-949d7d60d0c0",
   "metadata": {},
   "source": [
    "To get the images from a dataset, use web API like this: [https://idr.openmicroscopy.org/webclient/api/images/?id=15101](https://idr.openmicroscopy.org/webclient/api/images/?id=15101), where **15101** is the dataset ID."
   ]
  },
  {
   "cell_type": "code",
   "execution_count": 92,
   "id": "c93e5bcc-304d-4878-95d2-000aa124e06b",
   "metadata": {},
   "outputs": [
    {
     "name": "stdout",
     "output_type": "stream",
     "text": [
      "Image overview response: https://idr.openmicroscopy.org/webclient/api/images/?id=15101\n"
     ]
    }
   ],
   "source": [
    "DATASET_ID = dataset_list[0]['id']\n",
    "\n",
    "MAP_URL = \"{base}/webclient/api/images/?{type}={dataset_id}\"\n",
    "\n",
    "qs = {'base': IDR_BASE_URL, 'type': 'id', 'dataset_id': DATASET_ID}\n",
    "url = MAP_URL.format(**qs)\n",
    "print(\"Image list response: \" + url)\n",
    "image_list = []\n",
    "for a in session.get(url).json()['images']:\n",
    "    image = {}\n",
    "    image['id'] = a['id']\n",
    "    image['name'] = a['name']\n",
    "    image['fileId'] = a['filesetId']\n",
    "    image_list.append(image)"
   ]
  },
  {
   "cell_type": "code",
   "execution_count": 91,
   "id": "0ba4a60a-93b9-4ae3-8989-abca5af515be",
   "metadata": {},
   "outputs": [
    {
     "data": {
      "text/plain": [
       "[{'id': 13457536, 'name': 'cell002_processed', 'fileId': 5285788},\n",
       " {'id': 13457535, 'name': 'cell006_processed', 'fileId': 5285787},\n",
       " {'id': 13457201, 'name': 'pgp1_fov01_hyb', 'fileId': 5285501},\n",
       " {'id': 13457226, 'name': 'pgp1_fov01_seq', 'fileId': 5285502}]"
      ]
     },
     "execution_count": 91,
     "metadata": {},
     "output_type": "execute_result"
    }
   ],
   "source": [
    "image_list"
   ]
  },
  {
   "cell_type": "markdown",
   "id": "1251566e-9d3f-4a0d-939d-516ae4def286",
   "metadata": {},
   "source": [
    "## Get Image overview (meta-information)"
   ]
  },
  {
   "cell_type": "markdown",
   "id": "25acd3ba-3cae-4311-a7ab-fe868586ac0c",
   "metadata": {},
   "source": [
    "Get the meta-information (annotation) for an image is similar to the procedure of a project. You can use the following web API [ttps://idr.openmicroscopy.org/webclient/api/annotations/?type=map&image=13457536](ttps://idr.openmicroscopy.org/webclient/api/annotations/?type=map&image=13457536)."
   ]
  },
  {
   "cell_type": "code",
   "execution_count": 93,
   "id": "06b96e79-7def-49a9-861d-50803e073dda",
   "metadata": {},
   "outputs": [
    {
     "name": "stdout",
     "output_type": "stream",
     "text": [
      "Image overview response: https://idr.openmicroscopy.org/webclient/api/annotations/?type=map&image=13457536\n",
      "Cell Line GM23248\n",
      "Comment Cell Line PGP1f (Coriell GM23248) \n",
      "Organism Homo sapiens\n",
      "Assay Name In situ genome sequencing\n",
      "Channels Channel 1 (Cy5): dibases AT, CG, GC and TA; Channel 2 (FITC): dibases AA, CC, GG and TT; Channel 3 (Cy3): dibases AC, CA, GT and TG; Channel 4 (TxRed): dibases AG, CT, GA and TC; Channel 5: DAPI; Channel 6: Hybridization probe\n"
     ]
    }
   ],
   "source": [
    "IMAGE_ID = 13457536\n",
    "\n",
    "MAP_URL = \"{base}/webclient/api/annotations/?type=map&{type}={image_id}\"\n",
    "qs = {'base': IDR_BASE_URL, 'type': 'image', 'image_id': IMAGE_ID}\n",
    "url = MAP_URL.format(**qs)\n",
    "print(\"Image overview response: \" + url)\n",
    "for a in session.get(url).json()['annotations']:\n",
    "    namespace = a['ns']\n",
    "    for v in a['values']:\n",
    "        key = v[0]\n",
    "        value = v[1]\n",
    "        print(key, value)"
   ]
  },
  {
   "cell_type": "markdown",
   "id": "6506e294-95b3-4c9d-88b4-23f2404bd4ff",
   "metadata": {},
   "source": [
    "## View Image annotation file"
   ]
  },
  {
   "cell_type": "markdown",
   "id": "c2c530c2-ce1d-478e-9c45-24f6ddb6bb5e",
   "metadata": {},
   "source": [
    "View the annotation associated with an image is also similar to the dataset, such as [https://idr.openmicroscopy.org/webclient/api/annotations/?type=file&image=13457536](https://idr.openmicroscopy.org/webclient/api/annotations/?type=file&image=13457536)"
   ]
  },
  {
   "cell_type": "code",
   "execution_count": 94,
   "id": "a748b637-dcd3-462b-afbf-f3049c3de5ae",
   "metadata": {},
   "outputs": [
    {
     "name": "stdout",
     "output_type": "stream",
     "text": [
      "Image annotation response: https://idr.openmicroscopy.org/webclient/api/annotations/?type=file&image=13457536\n",
      "Annotation ID:  33422603\n",
      "\tFile name:  bulk_annotations\n",
      "\tFile ID:  41884095\n",
      "\tFile type:  OMERO.tables\n"
     ]
    }
   ],
   "source": [
    "IMAGE_ID = 13457536\n",
    "\n",
    "MAP_URL = \"{base}/webclient/api/annotations/?type=file&{type}={image_id}\"\n",
    "qs = {'base': IDR_BASE_URL, 'type': 'image', 'image_id': IMAGE_ID}\n",
    "url = MAP_URL.format(**qs)\n",
    "print(\"Image annotation response: \" + url)\n",
    "for a in session.get(url).json()['annotations']:\n",
    "    namespace = a['ns']\n",
    "    print(\"Annotation ID: \", a['id'])\n",
    "    print(\"\\tFile name: \", a['file']['name'])\n",
    "    print(\"\\tFile ID: \", a['file']['id'])\n",
    "    print(\"\\tFile type: \", a['file']['mimetype'])"
   ]
  },
  {
   "cell_type": "markdown",
   "id": "0b1a3572-3b5d-434f-b15e-a0a32d2804cc",
   "metadata": {},
   "source": [
    "## Parse Image annotation as data frame"
   ]
  },
  {
   "cell_type": "markdown",
   "id": "4750ac9a-cfb6-46e6-856a-732fb2d48bb4",
   "metadata": {},
   "source": [
    "We can parse the image annotation file as a pandas dataframe."
   ]
  },
  {
   "cell_type": "code",
   "execution_count": 63,
   "id": "e4f8c246-2235-4e5d-9de9-8e3a8781ba37",
   "metadata": {},
   "outputs": [
    {
     "name": "stdout",
     "output_type": "stream",
     "text": [
      "https://idr.openmicroscopy.org/webclient/omero_table/41884095/json/\n"
     ]
    }
   ],
   "source": [
    "MAP_URL = \"{base}/webclient/omero_table/{file_id}/json/\"\n",
    "\n",
    "ANNOTATION_ID = \"41884095\"\n",
    "\n",
    "qs = {'base': IDR_BASE_URL, 'file_id': ANNOTATION_ID} \n",
    "url = MAP_URL.format(**qs)\n",
    "print(url)\n",
    "anno_table = session.get(url).json()['data']"
   ]
  },
  {
   "cell_type": "code",
   "execution_count": 66,
   "id": "9c33cf26-1b09-413a-bb16-1d5233999fe0",
   "metadata": {},
   "outputs": [],
   "source": [
    "import pandas as pd\n",
    "df = pd.DataFrame(data = anno_table['rows'], columns = anno_table['columns'])"
   ]
  },
  {
   "cell_type": "code",
   "execution_count": 72,
   "id": "bd48c47e-339c-48bb-904e-d55b8189cb57",
   "metadata": {},
   "outputs": [
    {
     "data": {
      "text/html": [
       "<table border=\"1\" class=\"dataframe\">\n",
       "  <thead>\n",
       "    <tr style=\"text-align: right;\">\n",
       "      <th></th>\n",
       "      <th>Roi</th>\n",
       "      <th>shape</th>\n",
       "      <th>cell_id</th>\n",
       "      <th>fov</th>\n",
       "      <th>fov_cell</th>\n",
       "      <th>amp_ind</th>\n",
       "      <th>x_um</th>\n",
       "      <th>y_um</th>\n",
       "      <th>z_um</th>\n",
       "      <th>region_size</th>\n",
       "      <th>hg38_chr</th>\n",
       "      <th>hg38_pos</th>\n",
       "      <th>umi_rol</th>\n",
       "      <th>purity_score</th>\n",
       "      <th>umi_seq</th>\n",
       "      <th>umi_cs</th>\n",
       "      <th>match_score</th>\n",
       "      <th>frag_len</th>\n",
       "      <th>hg38_ind</th>\n",
       "      <th>hamming_dist</th>\n",
       "      <th>cluster</th>\n",
       "      <th>mle_cluster</th>\n",
       "      <th>dist_to_edge_3d</th>\n",
       "      <th>dist_to_edge_2d</th>\n",
       "      <th>norm_r_3D</th>\n",
       "      <th>norm_r_2D</th>\n",
       "      <th>ab_comp</th>\n",
       "      <th>lads</th>\n",
       "      <th>rep_name</th>\n",
       "      <th>rep_class</th>\n",
       "      <th>rep_family</th>\n",
       "      <th>Roi Name</th>\n",
       "    </tr>\n",
       "  </thead>\n",
       "  <tbody>\n",
       "    <tr>\n",
       "      <th>0</th>\n",
       "      <td>2363501</td>\n",
       "      <td>6609251</td>\n",
       "      <td>1</td>\n",
       "      <td>1</td>\n",
       "      <td>2</td>\n",
       "      <td>6</td>\n",
       "      <td>15.275229</td>\n",
       "      <td>19.933633</td>\n",
       "      <td>1.5</td>\n",
       "      <td>6</td>\n",
       "      <td>1</td>\n",
       "      <td>194631781</td>\n",
       "      <td>1.331442e+17</td>\n",
       "      <td>0.619711</td>\n",
       "      <td>TTGTATTAGTTTATGAATGCTGCCA</td>\n",
       "      <td>1.331442e+17</td>\n",
       "      <td>1.034495</td>\n",
       "      <td>81</td>\n",
       "      <td>430172</td>\n",
       "      <td>1</td>\n",
       "      <td>1</td>\n",
       "      <td>1</td>\n",
       "      <td>0.390607</td>\n",
       "      <td>0.446676</td>\n",
       "      <td>1.000000</td>\n",
       "      <td>1.000000</td>\n",
       "      <td>-1</td>\n",
       "      <td>1</td>\n",
       "      <td></td>\n",
       "      <td></td>\n",
       "      <td></td>\n",
       "      <td>hg38_chr1</td>\n",
       "    </tr>\n",
       "    <tr>\n",
       "      <th>1</th>\n",
       "      <td>2363501</td>\n",
       "      <td>6609252</td>\n",
       "      <td>1</td>\n",
       "      <td>1</td>\n",
       "      <td>2</td>\n",
       "      <td>11</td>\n",
       "      <td>13.758540</td>\n",
       "      <td>17.225259</td>\n",
       "      <td>2.1</td>\n",
       "      <td>2</td>\n",
       "      <td>1</td>\n",
       "      <td>150295182</td>\n",
       "      <td>1.313231e+17</td>\n",
       "      <td>0.833465</td>\n",
       "      <td>AGGTAACAGCCGCCGGTGAAGCCCT</td>\n",
       "      <td>1.313231e+17</td>\n",
       "      <td>0.833465</td>\n",
       "      <td>253</td>\n",
       "      <td>311613</td>\n",
       "      <td>0</td>\n",
       "      <td>1</td>\n",
       "      <td>1</td>\n",
       "      <td>0.600000</td>\n",
       "      <td>3.344376</td>\n",
       "      <td>0.818702</td>\n",
       "      <td>0.699025</td>\n",
       "      <td>1</td>\n",
       "      <td>-1</td>\n",
       "      <td>AluYh3</td>\n",
       "      <td>SINE</td>\n",
       "      <td>Alu</td>\n",
       "      <td>hg38_chr1</td>\n",
       "    </tr>\n",
       "    <tr>\n",
       "      <th>2</th>\n",
       "      <td>2363501</td>\n",
       "      <td>6609253</td>\n",
       "      <td>1</td>\n",
       "      <td>1</td>\n",
       "      <td>2</td>\n",
       "      <td>31</td>\n",
       "      <td>14.950225</td>\n",
       "      <td>17.116924</td>\n",
       "      <td>1.5</td>\n",
       "      <td>3</td>\n",
       "      <td>1</td>\n",
       "      <td>225100477</td>\n",
       "      <td>1.212244e+17</td>\n",
       "      <td>1.417308</td>\n",
       "      <td>CATTGAGAATGCTAGTTCGTATTCA</td>\n",
       "      <td>1.214244e+17</td>\n",
       "      <td>1.589135</td>\n",
       "      <td>142</td>\n",
       "      <td>510598</td>\n",
       "      <td>1</td>\n",
       "      <td>1</td>\n",
       "      <td>1</td>\n",
       "      <td>0.900000</td>\n",
       "      <td>2.295577</td>\n",
       "      <td>0.791908</td>\n",
       "      <td>0.791297</td>\n",
       "      <td>-1</td>\n",
       "      <td>-1</td>\n",
       "      <td></td>\n",
       "      <td></td>\n",
       "      <td></td>\n",
       "      <td>hg38_chr1</td>\n",
       "    </tr>\n",
       "    <tr>\n",
       "      <th>3</th>\n",
       "      <td>2363501</td>\n",
       "      <td>6609254</td>\n",
       "      <td>1</td>\n",
       "      <td>1</td>\n",
       "      <td>2</td>\n",
       "      <td>53</td>\n",
       "      <td>4.550068</td>\n",
       "      <td>12.133516</td>\n",
       "      <td>1.8</td>\n",
       "      <td>3</td>\n",
       "      <td>1</td>\n",
       "      <td>159490134</td>\n",
       "      <td>1.343424e+17</td>\n",
       "      <td>1.990848</td>\n",
       "      <td>AAGGTTGCATAGAGAAAGGTTACCT</td>\n",
       "      <td>1.243344e+17</td>\n",
       "      <td>1.990848</td>\n",
       "      <td>123</td>\n",
       "      <td>333514</td>\n",
       "      <td>0</td>\n",
       "      <td>2</td>\n",
       "      <td>2</td>\n",
       "      <td>0.647057</td>\n",
       "      <td>2.338630</td>\n",
       "      <td>0.699373</td>\n",
       "      <td>0.678700</td>\n",
       "      <td>-1</td>\n",
       "      <td>1</td>\n",
       "      <td>LTR81B</td>\n",
       "      <td>LTR</td>\n",
       "      <td>Gypsy</td>\n",
       "      <td>hg38_chr1</td>\n",
       "    </tr>\n",
       "    <tr>\n",
       "      <th>4</th>\n",
       "      <td>2363501</td>\n",
       "      <td>6609255</td>\n",
       "      <td>1</td>\n",
       "      <td>1</td>\n",
       "      <td>2</td>\n",
       "      <td>78</td>\n",
       "      <td>5.308413</td>\n",
       "      <td>12.566855</td>\n",
       "      <td>1.8</td>\n",
       "      <td>3</td>\n",
       "      <td>1</td>\n",
       "      <td>23787304</td>\n",
       "      <td>1.322132e+17</td>\n",
       "      <td>1.102639</td>\n",
       "      <td>GTATTAGTTTTGGTGTAGTATGCCA</td>\n",
       "      <td>1.322132e+17</td>\n",
       "      <td>1.134513</td>\n",
       "      <td>182</td>\n",
       "      <td>43138</td>\n",
       "      <td>1</td>\n",
       "      <td>2</td>\n",
       "      <td>2</td>\n",
       "      <td>0.871229</td>\n",
       "      <td>3.186227</td>\n",
       "      <td>0.601445</td>\n",
       "      <td>0.590854</td>\n",
       "      <td>1</td>\n",
       "      <td>-1</td>\n",
       "      <td></td>\n",
       "      <td></td>\n",
       "      <td></td>\n",
       "      <td>hg38_chr1</td>\n",
       "    </tr>\n",
       "    <tr>\n",
       "      <th>5</th>\n",
       "      <td>2363501</td>\n",
       "      <td>6609256</td>\n",
       "      <td>1</td>\n",
       "      <td>1</td>\n",
       "      <td>2</td>\n",
       "      <td>232</td>\n",
       "      <td>13.650205</td>\n",
       "      <td>15.816904</td>\n",
       "      <td>1.5</td>\n",
       "      <td>4</td>\n",
       "      <td>1</td>\n",
       "      <td>153996406</td>\n",
       "      <td>2.414421e+17</td>\n",
       "      <td>2.324736</td>\n",
       "      <td>CTACGGATTATATGTCTTCTTTCCT</td>\n",
       "      <td>2.414421e+17</td>\n",
       "      <td>2.466447</td>\n",
       "      <td>159</td>\n",
       "      <td>319985</td>\n",
       "      <td>3</td>\n",
       "      <td>1</td>\n",
       "      <td>1</td>\n",
       "      <td>0.906497</td>\n",
       "      <td>3.871365</td>\n",
       "      <td>0.637350</td>\n",
       "      <td>0.599185</td>\n",
       "      <td>1</td>\n",
       "      <td>-1</td>\n",
       "      <td></td>\n",
       "      <td></td>\n",
       "      <td></td>\n",
       "      <td>hg38_chr1</td>\n",
       "    </tr>\n",
       "    <tr>\n",
       "      <th>6</th>\n",
       "      <td>2363501</td>\n",
       "      <td>6609257</td>\n",
       "      <td>1</td>\n",
       "      <td>1</td>\n",
       "      <td>2</td>\n",
       "      <td>389</td>\n",
       "      <td>13.325200</td>\n",
       "      <td>18.633613</td>\n",
       "      <td>2.4</td>\n",
       "      <td>4</td>\n",
       "      <td>1</td>\n",
       "      <td>173788354</td>\n",
       "      <td>2.242424e+17</td>\n",
       "      <td>2.041239</td>\n",
       "      <td>ATAGTTGAGGATCGAGCGGGGGTAT</td>\n",
       "      <td>2.113314e+17</td>\n",
       "      <td>2.613091</td>\n",
       "      <td>140</td>\n",
       "      <td>371772</td>\n",
       "      <td>2</td>\n",
       "      <td>1</td>\n",
       "      <td>1</td>\n",
       "      <td>0.600000</td>\n",
       "      <td>2.375971</td>\n",
       "      <td>0.980375</td>\n",
       "      <td>0.821143</td>\n",
       "      <td>1</td>\n",
       "      <td>-1</td>\n",
       "      <td></td>\n",
       "      <td></td>\n",
       "      <td></td>\n",
       "      <td>hg38_chr1</td>\n",
       "    </tr>\n",
       "    <tr>\n",
       "      <th>7</th>\n",
       "      <td>2363501</td>\n",
       "      <td>6609258</td>\n",
       "      <td>1</td>\n",
       "      <td>1</td>\n",
       "      <td>2</td>\n",
       "      <td>440</td>\n",
       "      <td>2.275034</td>\n",
       "      <td>14.083545</td>\n",
       "      <td>1.5</td>\n",
       "      <td>2</td>\n",
       "      <td>1</td>\n",
       "      <td>201029547</td>\n",
       "      <td>2.333314e+17</td>\n",
       "      <td>1.454619</td>\n",
       "      <td>TGGACGATCGAGGGTACTGGTGCCA</td>\n",
       "      <td>2.313314e+17</td>\n",
       "      <td>1.698928</td>\n",
       "      <td>387</td>\n",
       "      <td>448056</td>\n",
       "      <td>1</td>\n",
       "      <td>2</td>\n",
       "      <td>2</td>\n",
       "      <td>0.216670</td>\n",
       "      <td>0.216670</td>\n",
       "      <td>1.000000</td>\n",
       "      <td>0.978339</td>\n",
       "      <td>1</td>\n",
       "      <td>-1</td>\n",
       "      <td>MIRb</td>\n",
       "      <td>SINE</td>\n",
       "      <td>MIR</td>\n",
       "      <td>hg38_chr1</td>\n",
       "    </tr>\n",
       "    <tr>\n",
       "      <th>8</th>\n",
       "      <td>2363501</td>\n",
       "      <td>6609259</td>\n",
       "      <td>1</td>\n",
       "      <td>1</td>\n",
       "      <td>2</td>\n",
       "      <td>478</td>\n",
       "      <td>4.116729</td>\n",
       "      <td>13.325200</td>\n",
       "      <td>1.8</td>\n",
       "      <td>1</td>\n",
       "      <td>1</td>\n",
       "      <td>35436829</td>\n",
       "      <td>2.433424e+17</td>\n",
       "      <td>2.101219</td>\n",
       "      <td>CGTGCGTGTTTGATTAGGTTTTCCT</td>\n",
       "      <td>2.433424e+17</td>\n",
       "      <td>3.029592</td>\n",
       "      <td>219</td>\n",
       "      <td>65594</td>\n",
       "      <td>2</td>\n",
       "      <td>2</td>\n",
       "      <td>2</td>\n",
       "      <td>0.900000</td>\n",
       "      <td>2.103484</td>\n",
       "      <td>0.752805</td>\n",
       "      <td>0.744886</td>\n",
       "      <td>1</td>\n",
       "      <td>1</td>\n",
       "      <td></td>\n",
       "      <td></td>\n",
       "      <td></td>\n",
       "      <td>hg38_chr1</td>\n",
       "    </tr>\n",
       "    <tr>\n",
       "      <th>9</th>\n",
       "      <td>2363501</td>\n",
       "      <td>6609260</td>\n",
       "      <td>1</td>\n",
       "      <td>1</td>\n",
       "      <td>2</td>\n",
       "      <td>673</td>\n",
       "      <td>4.333398</td>\n",
       "      <td>13.650205</td>\n",
       "      <td>1.5</td>\n",
       "      <td>4</td>\n",
       "      <td>1</td>\n",
       "      <td>27082504</td>\n",
       "      <td>3.334234e+17</td>\n",
       "      <td>2.125720</td>\n",
       "      <td>TTTAGGGTTGATGGTACTGTTGCCA</td>\n",
       "      <td>3.334214e+17</td>\n",
       "      <td>2.597073</td>\n",
       "      <td>343</td>\n",
       "      <td>48031</td>\n",
       "      <td>1</td>\n",
       "      <td>2</td>\n",
       "      <td>2</td>\n",
       "      <td>1.088837</td>\n",
       "      <td>2.277612</td>\n",
       "      <td>0.758454</td>\n",
       "      <td>0.722022</td>\n",
       "      <td>1</td>\n",
       "      <td>-1</td>\n",
       "      <td>L1ME3B</td>\n",
       "      <td>LINE</td>\n",
       "      <td>L1</td>\n",
       "      <td>hg38_chr1</td>\n",
       "    </tr>\n",
       "  </tbody>\n",
       "</table>"
      ],
      "text/plain": [
       "<IPython.core.display.HTML object>"
      ]
     },
     "metadata": {},
     "output_type": "display_data"
    }
   ],
   "source": [
    "display(HTML(df.head(10).to_html()))"
   ]
  },
  {
   "cell_type": "markdown",
   "id": "36fa8576-dacc-4690-93c2-9f6454884fbb",
   "metadata": {},
   "source": [
    "## Get ROIs of an image"
   ]
  },
  {
   "cell_type": "markdown",
   "id": "586bc435-dc12-4716-80c6-41cd609558d7",
   "metadata": {},
   "source": [
    "The JSON object of all ROIs associated with an image can be accessed like this [https://idr.openmicroscopy.org/api/v0/m/images/13457536/rois/](https://idr.openmicroscopy.org/api/v0/m/images/13457536/rois/)"
   ]
  },
  {
   "cell_type": "markdown",
   "id": "dd1f51ff-18e3-4802-b307-813f86ddf305",
   "metadata": {},
   "source": [
    "The webclient link to a specific ROI is [https://idr.openmicroscopy.org/iviewer/?roi=2363501](https://idr.openmicroscopy.org/iviewer/?roi=2363501)"
   ]
  },
  {
   "cell_type": "markdown",
   "id": "48772ed3-f3e9-459b-81dd-595d026ac909",
   "metadata": {},
   "source": [
    "## Go to a specific shape of an image"
   ]
  },
  {
   "cell_type": "markdown",
   "id": "abc0a1fe-df06-48f3-bd80-114a9bc69baf",
   "metadata": {},
   "source": [
    "The webclient link to a specicic shape is like this [https://idr.openmicroscopy.org/iviewer/?shape=6609251](https://idr.openmicroscopy.org/iviewer/?shape=6609251)"
   ]
  },
  {
   "cell_type": "markdown",
   "id": "908e848a-9738-43be-85c0-871cf58c9df7",
   "metadata": {},
   "source": [
    "## View the image"
   ]
  },
  {
   "cell_type": "markdown",
   "id": "e637a74f-9530-4dc0-ae92-dc3073a8bcb0",
   "metadata": {},
   "source": [
    "To view the image meta-info, use the web API like this [https://idr.openmicroscopy.org/webclient/imgData/13457536/](https://idr.openmicroscopy.org/webclient/imgData/13457536/)."
   ]
  },
  {
   "cell_type": "markdown",
   "id": "fcaf3fa3-b16c-4f47-84c3-a7b8bf3844c7",
   "metadata": {},
   "source": [
    "To display an image, use the link like this [https://idr.openmicroscopy.org/webclient/render_image/13457536](https://idr.openmicroscopy.org/webclient/render_image/13457536)"
   ]
  },
  {
   "cell_type": "code",
   "execution_count": 100,
   "id": "d861d58f-0f41-4b74-b8ef-feba12730a61",
   "metadata": {},
   "outputs": [
    {
     "name": "stdout",
     "output_type": "stream",
     "text": [
      "image meta-data: https://idr.openmicroscopy.org/webclient/imgData/13457536/\n",
      "{\n",
      "    \"channels\": [\n",
      "        {\n",
      "            \"active\": true,\n",
      "            \"coefficient\": 1.0,\n",
      "            \"color\": \"FFFFFF\",\n",
      "            \"emissionWave\": null,\n",
      "            \"family\": \"linear\",\n",
      "            \"inverted\": false,\n",
      "            \"label\": \"cy 1\",\n",
      "            \"reverseIntensity\": false,\n",
      "            \"window\": {\n",
      "                \"end\": 1200.0,\n",
      "                \"max\": 65535.0,\n",
      "                \"min\": 0.0,\n",
      "                \"start\": 0.0\n",
      "            }\n",
      "        },\n",
      "        {\n",
      "            \"active\": true,\n",
      "            \"coefficient\": 1.0,\n",
      "            \"color\": \"FFFFFF\",\n",
      "            \"emissionWave\": null,\n",
      "            \"family\": \"linear\",\n",
      "            \"inverted\": false,\n",
      "            \"label\": \"cy 2\",\n",
      "            \"reverseIntensity\": false,\n",
      "            \"window\": {\n",
      "                \"end\": 1200.0,\n",
      "                \"max\": 65535.0,\n",
      "                \"min\": 0.0,\n",
      "                \"start\": 0.0\n",
      "            }\n",
      "        },\n",
      "        {\n",
      "            \"active\": true,\n",
      "            \"coefficient\": 1.0,\n",
      "            \"color\": \"FFFFFF\",\n",
      "            \"emissionWave\": null,\n",
      "            \"family\": \"linear\",\n",
      "            \"inverted\": false,\n",
      "            \"label\": \"cy 3\",\n",
      "            \"reverseIntensity\": false,\n",
      "            \"window\": {\n",
      "                \"end\": 1200.0,\n",
      "                \"max\": 65535.0,\n",
      "                \"min\": 0.0,\n",
      "                \"start\": 0.0\n",
      "            }\n",
      "        },\n",
      "        {\n",
      "            \"active\": true,\n",
      "            \"coefficient\": 1.0,\n",
      "            \"color\": \"FFFFFF\",\n",
      "            \"emissionWave\": null,\n",
      "            \"family\": \"linear\",\n",
      "            \"inverted\": false,\n",
      "            \"label\": \"cy 4\",\n",
      "            \"reverseIntensity\": false,\n",
      "            \"window\": {\n",
      "                \"end\": 1200.0,\n",
      "                \"max\": 65535.0,\n",
      "                \"min\": 0.0,\n",
      "                \"start\": 0.0\n",
      "            }\n",
      "        },\n",
      "        {\n",
      "            \"active\": true,\n",
      "            \"coefficient\": 1.0,\n",
      "            \"color\": \"0000FF\",\n",
      "            \"emissionWave\": null,\n",
      "            \"family\": \"linear\",\n",
      "            \"inverted\": false,\n",
      "            \"label\": \"DAPI\",\n",
      "            \"reverseIntensity\": false,\n",
      "            \"window\": {\n",
      "                \"end\": 12000.0,\n",
      "                \"max\": 65535.0,\n",
      "                \"min\": 0.0,\n",
      "                \"start\": 0.0\n",
      "            }\n",
      "        },\n",
      "        {\n",
      "            \"active\": true,\n",
      "            \"coefficient\": 1.0,\n",
      "            \"color\": \"FF0000\",\n",
      "            \"emissionWave\": null,\n",
      "            \"family\": \"linear\",\n",
      "            \"inverted\": false,\n",
      "            \"label\": \"Hyb probe\",\n",
      "            \"reverseIntensity\": false,\n",
      "            \"window\": {\n",
      "                \"end\": 100.0,\n",
      "                \"max\": 65535.0,\n",
      "                \"min\": 0.0,\n",
      "                \"start\": 0.0\n",
      "            }\n",
      "        }\n",
      "    ],\n",
      "    \"id\": 13457536,\n",
      "    \"init_zoom\": 0,\n",
      "    \"interpolate\": true,\n",
      "    \"meta\": {\n",
      "        \"datasetDescription\": \"\",\n",
      "        \"datasetId\": 15101,\n",
      "        \"datasetName\": \"Fibroblasts_01\",\n",
      "        \"imageAuthor\": \"Public data\",\n",
      "        \"imageDescription\": \"\",\n",
      "        \"imageId\": 13457536,\n",
      "        \"imageName\": \"cell002_processed\",\n",
      "        \"imageTimestamp\": 1630932990.0,\n",
      "        \"pixelsType\": \"uint16\",\n",
      "        \"projectDescription\": \"Publication Title\\nIn situ genome sequencing resolves DNA sequence and structure in intact biological samples\\n\\nExperiment Description\\nIn situ genome sequencing of human PGP1 fibroblasts.\",\n",
      "        \"projectId\": 2051,\n",
      "        \"projectName\": \"idr0101-payne-insitugenomeseq/experimentA\",\n",
      "        \"wellId\": \"\",\n",
      "        \"wellSampleId\": \"\"\n",
      "    },\n",
      "    \"perms\": {\n",
      "        \"canAnnotate\": false,\n",
      "        \"canDelete\": false,\n",
      "        \"canEdit\": false,\n",
      "        \"canLink\": false\n",
      "    },\n",
      "    \"pixel_range\": [\n",
      "        0,\n",
      "        65535\n",
      "    ],\n",
      "    \"pixel_size\": {\n",
      "        \"x\": 0.108335,\n",
      "        \"y\": 0.108335,\n",
      "        \"z\": 0.4\n",
      "    },\n",
      "    \"rdefs\": {\n",
      "        \"defaultT\": 0,\n",
      "        \"defaultZ\": 9,\n",
      "        \"invertAxis\": false,\n",
      "        \"model\": \"color\",\n",
      "        \"projection\": \"normal\"\n",
      "    },\n",
      "    \"size\": {\n",
      "        \"c\": 6,\n",
      "        \"height\": 179,\n",
      "        \"t\": 18,\n",
      "        \"width\": 194,\n",
      "        \"z\": 10\n",
      "    },\n",
      "    \"split_channel\": {\n",
      "        \"c\": {\n",
      "            \"border\": 2,\n",
      "            \"gridx\": 3,\n",
      "            \"gridy\": 3,\n",
      "            \"height\": 545,\n",
      "            \"width\": 590\n",
      "        },\n",
      "        \"g\": {\n",
      "            \"border\": 2,\n",
      "            \"gridx\": 3,\n",
      "            \"gridy\": 2,\n",
      "            \"height\": 364,\n",
      "            \"width\": 590\n",
      "        }\n",
      "    },\n",
      "    \"tiles\": false\n",
      "}\n",
      "image render link: https://idr.openmicroscopy.org/webclient/render_image/13457536\n"
     ]
    },
    {
     "data": {
      "text/html": [
       "<img src='https://idr.openmicroscopy.org/webclient/render_image/13457536' />"
      ],
      "text/plain": [
       "<IPython.core.display.HTML object>"
      ]
     },
     "metadata": {},
     "output_type": "display_data"
    }
   ],
   "source": [
    "import json\n",
    "\n",
    "IMAGE_ID = 13457536\n",
    "\n",
    "IMAGE_DETAILS_URL = \"{base}/webclient/imgData/{image_id}/\"\n",
    "qs = {'base': IDR_BASE_URL, 'image_id': IMAGE_ID}\n",
    "url = IMAGE_DETAILS_URL.format(**qs)\n",
    "print(\"image meta-data: \" + url)\n",
    "r = session.get(url)\n",
    "if r.status_code == 200:\n",
    "    print (json.dumps(r.json(), indent=4, sort_keys=True))\n",
    "\n",
    "RENDER_IMAGE = \"{base}/webclient/render_image/{image_id}\"\n",
    "img_url = RENDER_IMAGE.format(**qs)\n",
    "print(\"image render link: \" + img_url)\n",
    "\n",
    "display(HTML(\"<img src='%s' />\" % img_url))"
   ]
  },
  {
   "cell_type": "markdown",
   "id": "1749a9fc-2c68-4644-8aa0-3a27cc15ac9b",
   "metadata": {},
   "source": [
    "## Get Image thumbnail"
   ]
  },
  {
   "cell_type": "markdown",
   "id": "630dccb4-5f79-4bea-97bd-f93f4386a3b5",
   "metadata": {},
   "source": [
    "The thumbnaill can be loaded as a JSON object like this [http://idr.openmicroscopy.org/webclient/get_thumbnails/?id=13457536](http://idr.openmicroscopy.org/webclient/get_thumbnails/?id=13457536). It is also possible to render the thumbnail as jpegs like this [http://idr.openmicroscopy.org/webclient/render_thumbnail/13457536](http://idr.openmicroscopy.org/webclient/render_thumbnail/13457536)"
   ]
  },
  {
   "cell_type": "code",
   "execution_count": 104,
   "id": "022a32d6-7230-4d3a-b426-226ab24ebebc",
   "metadata": {},
   "outputs": [
    {
     "name": "stdout",
     "output_type": "stream",
     "text": [
      "thumbnail as json: https://idr.openmicroscopy.org/webclient/get_thumbnail/13457536/\n",
      "\"data:image/jpeg;base64,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\"\n",
      "thumbnail render link: https://idr.openmicroscopy.org/webclient/render_thumbnail/13457536\n"
     ]
    },
    {
     "data": {
      "text/html": [
       "<img src='https://idr.openmicroscopy.org/webclient/render_thumbnail/13457536' />"
      ],
      "text/plain": [
       "<IPython.core.display.HTML object>"
      ]
     },
     "metadata": {},
     "output_type": "display_data"
    }
   ],
   "source": [
    "import json\n",
    "\n",
    "IMAGE_ID = 13457536\n",
    "\n",
    "IMAGE_DETAILS_URL = \"{base}/webclient/get_thumbnail/{image_id}/\"\n",
    "qs = {'base': IDR_BASE_URL, 'image_id': IMAGE_ID}\n",
    "url = IMAGE_DETAILS_URL.format(**qs)\n",
    "print(\"thumbnail as json: \" + url)\n",
    "r = session.get(url)\n",
    "if r.status_code == 200:\n",
    "    print (json.dumps(r.json(), indent=4, sort_keys=True))\n",
    "\n",
    "RENDER_IMAGE = \"{base}/webclient/render_thumbnail/{image_id}\"\n",
    "img_url = RENDER_IMAGE.format(**qs)\n",
    "print(\"thumbnail render link: \" + img_url)\n",
    "\n",
    "display(HTML(\"<img src='%s' />\" % img_url))"
   ]
  },
  {
   "cell_type": "code",
   "execution_count": null,
   "id": "eac1cd83-69f1-426f-8b64-e286e6a01230",
   "metadata": {},
   "outputs": [],
   "source": [
    "## "
   ]
  }
 ],
 "metadata": {
  "kernelspec": {
   "display_name": "Python 3 (ipykernel)",
   "language": "python",
   "name": "python3"
  },
  "language_info": {
   "codemirror_mode": {
    "name": "ipython",
    "version": 3
   },
   "file_extension": ".py",
   "mimetype": "text/x-python",
   "name": "python",
   "nbconvert_exporter": "python",
   "pygments_lexer": "ipython3",
   "version": "3.9.5"
  }
 },
 "nbformat": 4,
 "nbformat_minor": 5
}
